{
 "cells": [
  {
   "cell_type": "markdown",
   "metadata": {},
   "source": []
  },
  {
   "cell_type": "markdown",
   "metadata": {},
   "source": [
    "## I. Probability"
   ]
  },
  {
   "cell_type": "markdown",
   "metadata": {},
   "source": [
    "** Definitions **\n",
    "\n",
    "* [DEF] *Probability Distribution/Measure*: $\\mathbf{P}:A\\rightarrow \\mathbf{R}$ is a probability distribution/measure if:\n",
    "    * [AXM] $\\mathbf{P}(A)\\geq 0, \\forall A$,\n",
    "    * [AXM] $\\mathbf{P}(\\Omega)=1$,\n",
    "    * [AXM] If $A_i\\cap A_j=\\emptyset, \\forall A_i,A_j$ (i.e. disjoint), then $\\mathbf{P}\\left(\\cup_{i=1}^\\infty A_i\\right) = \\sum_{i=1}^\\infty\\mathbf{P}(A_i)$.\n",
    "        "
   ]
  },
  {
   "cell_type": "markdown",
   "metadata": {},
   "source": [
    "** Theorems **\n",
    "\n",
    "* [THM] $\\mathbf{P}(A\\cup B)=\\mathbf{P}(A)+\\mathbf{P}(B)-\\mathbf{P}(AB), \\forall A,B$.\n",
    "* [THM] *Continuity of Probabilities*: If $A_n\\rightarrow A$, then $\\mathbf{P}(A_n)\\rightarrow\\mathbf{P}(A)$ as $n\\rightarrow\\infty$.\n",
    "* [THM] *The Law of Total Probability*: Let $A_1,...,A_k$ be a partition of $\\Omega$. Then $\\mathbf{P}(B)=\\sum_{i=1}^k\\mathbf{P}(B\\mid A_i)\\mathbf{P}(A_i), \\forall B$ (pf. 22).\n",
    "* [THM] *Bayes' Theorem*: Let $A_1,...,A_k$ be a partition of $\\Omega$ s.t. $\\mathbf{P}(A_i)>0, \\forall i$. If $\\mathbf{P}(B)>0$ then $\\mathbf{P}(A_i\\mid B)=\\frac{\\mathbf{P}(B\\mid A_i)\\mathbf{P}(A_i)}{\\sum_j\\mathbf{P}(B\\mid A_j)\\mathbf{P}(A_j)}, \\forall i$ (pf. 23)."
   ]
  },
  {
   "cell_type": "markdown",
   "metadata": {},
   "source": [
    "## II. Random Variables (r.v)"
   ]
  },
  {
   "cell_type": "markdown",
   "metadata": {},
   "source": [
    "** Definitions **\n",
    "\n",
    "* [DEF] *Random Variable*: A r.v. is a mapping $X:\\Omega\\rightarrow\\mathbf{R}$ that assigns a real number $X(\\omega)$ to each outcome $\\omega$.\n",
    "* [DEF] *Cumulative Distribution Function* (CDF): A function $F_X:\\mathbf{R}\\rightarrow[0,1]$. The CDF of a r.v. $X$ is defined by $F_X(x)=\\mathbf{P}(X\\leq x)$.\n",
    "* [DEF] *Probabilitiy Density Function* (PDF): \n",
    "    * $\\mathbf{P}(a<X<b)=\\int_a^bf_X(x)dx$,\n",
    "    * $F_X(x)=\\int_{-\\infty}^xf_X(t)dt$, $f_X(x)=F'_X(x)$ at all points $x$ at which $F_X$ is differentiable. \n",
    "* [DEF] *Inverse CDF / Quantile Function*: \n",
    "    * Let $X$ be a r.v. with CDF $F$. The inverse CDF or quantile function is defined by $F^{-1}(q)=int\\{x:F(x)\\leq q\\},q\\in[0,1]$,\n",
    "    * If $F$ is strictly increasing and continuous then $F^{-1}(q)$ is the unique real number $x$ s.t. $F(x)=q$,\n",
    "    * 1st quartile: $F^{-1}(1/4)$; median $F^{-1}(1/2)$; etc."
   ]
  },
  {
   "cell_type": "markdown",
   "metadata": {},
   "source": [
    "** Theorems **\n",
    "\n",
    "* [THM] Let $X$ have CDF $F$ and let $Y$ have CDF $G$. If $F(x)=G(x), \\forall x$, then $\\mathbf{P}(X\\in A)=\\mathbf{P}(Y\\in A), \\forall A$.\n",
    "* [THM] A function $F$ mapping the real line to $[0,1]$ is a CDF for some probability measure $\\mathbf{P}$ iff it satisfies:\n",
    "    * $F$ is *non-decreasing*, i.e. $x_1<x_2\\Rightarrow F(x_1)\\leq F(x_2)$,\n",
    "    * $F$ is *normalized*, i.e. $lim_{x\\rightarrow-\\infty}F(x)=0$ and $lim_{x\\rightarrow\\infty}F(x)=1$,\n",
    "    * $F$ is *right-continuous*, i.e. $F(x)=F(x^+), \\forall x$, where $F(x^+)=lim_{y\\rightarrow x^+}F(y)$.\n",
    "* [THM] Let $F$ be the CDF for a r.v. $X$, then,\n",
    "    * $\\mathbf{P}(X=x)=F(x)-F(x^-)$, where $F(x^-)=lim_{y\\rightarrow x^-}F(y)$,\n",
    "    * $\\mathbf{P}(x<X\\leq y)=F(y)-F(x)$,\n",
    "    * $\\mathbf{P}(X>x)=1-F(x)$,\n",
    "    * If $X$ is continuous, then $\\mathbf{P}(a<X<b)=\\mathbf{P}(a\\leq X<b)=\\mathbf{P}(a<X\\leq b)=\\mathbf{P}(a\\leq X\\leq b)$."
   ]
  },
  {
   "cell_type": "markdown",
   "metadata": {},
   "source": [
    "** Distributions (Univariate) **\n",
    "\n",
    "* DISCRETE:\n",
    "    * *Point Mass*: $X\\sim \\delta_a$, $f(x)=\\begin{cases}1,&x=a\\\\0,&otherwise\\end{cases}$.\n",
    "    * *Dis. Uniform*: $X\\sim Uni(k)$, $f(x)=\\begin{cases}1/k,&x=1,...,k\\\\0,&otherwise\\end{cases}$.\n",
    "    * *Bernoulli*: $X\\sim Bern(p)$, $f(x)=p^x(1-p)^{1-x},x\\in\\{0,1\\}$.\n",
    "    * *Binomial*: $X\\sim Binom(n,p)$, $f(x)=\\begin{cases}\\binom{n}{x}p^x(1-p)^{n-x}, &x=0,...,n\\\\0, &otherwise\\end{cases}$, $Binom(n,p_1)+Binom(n,p_2)=Binom(n,p_1+p_2)$.\n",
    "    * *Geometric*: $X\\sim Geom(p)$, $f(x)=p(1-p)^{x-1},x\\geq 1$.\n",
    "    * *Poisson*: $X\\sim Poi(\\lambda)$, $f(x)=e^{-\\lambda}\\frac{\\lambda^x}{x!},x\\geq0$, $Poi(\\lambda_1)+Poi(\\lambda_2)=Poi(\\lambda_1+\\lambda_2)$.\n",
    "    \n",
    "    \n",
    "* CONTINUOUS:\n",
    "    * *Cont. Uniform*: $X\\sim Uni(a,b)$, $f(x)=\\begin{cases}\\frac{1}{b-a}, &x\\in[a,b]\\\\0, &otherwise\\end{cases}$.\n",
    "    * *Gaussian*: \n",
    "        * $X\\sim N(\\mu,\\sigma^2)$, $f(x)=\\frac{1}{\\sigma\\sqrt{2\\pi}}exp\\left\\{-\\frac{1}{2\\sigma^2}(x-\\mu)^2\\right\\},x\\in\\mathbf{R}$.\n",
    "        * $Z\\sim N(0,1)$, $\\phi(x)=\\frac{1}{\\sqrt{2\\pi}}exp\\left\\{-\\frac{1}{2}(x-\\mu)^2\\right\\},x\\in\\mathbf{R}$\n",
    "        * $\\mathbf{P}(a<X<b)=\\mathbf{P}\\left(\\frac{a-\\mu}{\\sigma}<Z<\\frac{b-\\mu}{\\sigma}\\right)=\\Phi\\left(\\frac{b-\\mu}{\\sigma}\\right) - \\Phi\\left(\\frac{a-\\mu}{\\sigma}\\right)$.\n",
    "    * *Exponential*: $X\\sim Exp(\\beta)$, $f(x)=\\frac{1}{\\beta}e^{-x/\\beta},x>0,\\beta>0$.\n",
    "    * *Gamma*:\n",
    "        * *Gamma Function*: $\\Gamma(\\alpha)=\\int_0^\\infty y^{\\alpha-1}e^{-y}dy$,\n",
    "        * $X\\sim Gam(\\alpha,\\beta)$, $f(x)=\\frac{1}{\\beta^\\alpha\\Gamma(\\alpha)}x^{\\alpha-1}e^{-x/\\beta},x>0,\\alpha,\\beta>0$.\n",
    "    * *Beta*: $X\\sim Bet(\\alpha,\\beta)$, $f(x)=\\frac{\\Gamma(\\alpha+\\beta)}{\\Gamma(\\alpha)\\Gamma(\\beta)}x^{\\alpha-1}(1-x)^{\\beta-1},0<x<1,\\alpha,\\beta>0$.\n",
    "    * *t*:\n",
    "        * $X\\sim t_v$, $f(x)=\\frac{\\Gamma\\left(\\frac{\\nu+1}{2}\\right)}{\\Gamma\\left(\\frac{\\nu}{2}\\right)}\\frac{1}{\\left(1+\\frac{x^2}{\\nu}\\right)^{(\\nu+1)/2}}$,\n",
    "        * $Cauchy$: $t$ with $\\nu=1$, $f(x)=\\frac{1}{\\pi(1+x^2)}$,\n",
    "        * $Normal$: $\\nu=\\infty$.\n",
    "    * *$\\chi^2$*: $X\\sim\\chi_p^2$, $f(x)=\\frac{1}{\\Gamma(p/2)2^{p/2}}x^{(p/2)-1}e^{-x/2},x>0$."
   ]
  },
  {
   "cell_type": "code",
   "execution_count": null,
   "metadata": {
    "collapsed": true
   },
   "outputs": [],
   "source": []
  },
  {
   "cell_type": "code",
   "execution_count": null,
   "metadata": {
    "collapsed": true
   },
   "outputs": [],
   "source": []
  },
  {
   "cell_type": "code",
   "execution_count": null,
   "metadata": {
    "collapsed": true
   },
   "outputs": [],
   "source": []
  },
  {
   "cell_type": "code",
   "execution_count": null,
   "metadata": {
    "collapsed": true
   },
   "outputs": [],
   "source": []
  },
  {
   "cell_type": "code",
   "execution_count": null,
   "metadata": {
    "collapsed": true
   },
   "outputs": [],
   "source": []
  }
 ],
 "metadata": {
  "kernelspec": {
   "display_name": "Python 2",
   "language": "python",
   "name": "python2"
  },
  "language_info": {
   "codemirror_mode": {
    "name": "ipython",
    "version": 2
   },
   "file_extension": ".py",
   "mimetype": "text/x-python",
   "name": "python",
   "nbconvert_exporter": "python",
   "pygments_lexer": "ipython2",
   "version": "2.7.11"
  }
 },
 "nbformat": 4,
 "nbformat_minor": 0
}
