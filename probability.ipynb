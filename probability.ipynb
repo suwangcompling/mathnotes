{
 "cells": [
  {
   "cell_type": "markdown",
   "metadata": {},
   "source": [
    "# Probability Notes"
   ]
  },
  {
   "cell_type": "markdown",
   "metadata": {},
   "source": [
    "## I. Foundation"
   ]
  },
  {
   "cell_type": "markdown",
   "metadata": {},
   "source": [
    "** $\\sigma$-algebra **\n",
    "\n",
    "A $\\sigma$-algebra on $\\Omega$ is a collection $\\mathcal{A} \\subset 2^\\Omega$ s.t. \n",
    "* $E\\in\\mathcal{A} \\Rightarrow E^c\\in\\mathcal{A}$,\n",
    "* $E_1,E_2,...\\in\\mathcal{A} \\Rightarrow \\cup_{i=1}^{\\infty}E_i\\in\\mathcal{A}.$"
   ]
  },
  {
   "cell_type": "markdown",
   "metadata": {},
   "source": [
    "** Probability Measure**\n",
    "\n",
    "A probability measure $P$ on $(\\Omega,\\mathcal{A})$ is a function $P:\\mathcal{A}\\rightarrow[0,1]$ s.t.\n",
    "* $P(\\emptyset)=0, P(\\Omega)=1$,\n",
    "* $P(\\cup_{i=1}^\\infty E_i) = \\sum_{i=1}^\\infty P(E_i)$ for any $E_1,E_2,...\\in\\mathcal{A}$ that are pairwise disjoint.\n",
    "\n",
    "*REMARKS*\n",
    "* $P(E\\cup F) = P(E)+P(F)-P(E\\cap F)$, for any $E,F\\in \\mathcal{A}$,\n",
    "* $P(E) = 1 - P(E^c)$, for all $E\\in\\mathcal{A}$,\n",
    "* If $E\\subset F$ then $P(E)\\leq P(F)$, for all $E,F\\in \\mathcal{A}$,\n",
    "* If $E_1,E_2,...\\in\\mathcal{A}$ then $P(\\cup_{i=1}^\\infty E_i) \\leq \\sum_{i=1}^\\infty P(E_i)$,\n",
    "* If $E_1\\subset E_2\\subset ...$ then $P(\\cup_{i=1}^\\infty E_i) = lim_{i\\rightarrow\\infty}P(E_i)$,\n",
    "* If $E_1\\supset E_2\\supset ...$ then $P(\\cap_{i=1}^\\infty E_i) = lim_{i\\rightarrow\\infty}P(E_i)$,"
   ]
  },
  {
   "cell_type": "markdown",
   "metadata": {},
   "source": [
    "** Cumulative Distribution Function (CDF) **\n",
    "\n",
    "A $CDF$ is a function $F:\\mathbf{R}\\rightarrow\\mathbf{R}$ s.t. \n",
    "* $x\\leq y \\Rightarrow F(x)\\leq F(y)$, $\\forall x,y\\in\\mathbf{R}$,\n",
    "* $lim_{x\\rightarrow a^+} F(x) = F(a)$,\n",
    "* $lim_{x\\rightarrow\\infty}F(x) = 1$,\n",
    "* $lim_{x\\rightarrow -\\infty}F(x) = 0$."
   ]
  },
  {
   "cell_type": "markdown",
   "metadata": {},
   "source": [
    "** Prob/Measure Theorem **\n",
    "\n",
    "$F(x) = P((-\\infty,x])$ defines an equivalence between $CDF$s $F$ and (Borel) Probability Measures $P$ on $\\mathbf{R}$."
   ]
  },
  {
   "cell_type": "markdown",
   "metadata": {},
   "source": [
    "## II. Important Rules"
   ]
  },
  {
   "cell_type": "markdown",
   "metadata": {},
   "source": [
    "** Bayes' Rule **\n",
    "\n",
    "* $P(B|A) = \\frac{P(A|B)P(B)}{P(A)}$, if $P(A)>0, P(B)>0$."
   ]
  },
  {
   "cell_type": "markdown",
   "metadata": {},
   "source": [
    "** Chain Rule **\n",
    "\n",
    "* If $A_1,...,A_n$, and $P(A_1\\cap ... \\cap A_{n-1}) > 0$, then $P(A_1\\cap ... \\cap A_{n}) = P(A_1)P(A_2|A_1)...P(A_n|A_1,...,A_{n-1})$."
   ]
  },
  {
   "cell_type": "markdown",
   "metadata": {},
   "source": [
    "** Partition Rule **\n",
    "\n",
    "A *partition* of $\\Omega$ is a finite or countable collection $\\{B_i\\}, B_i\\subset 2^\\Omega$, s.t. \n",
    "* $\\cup_iB_i = \\Omega$,\n",
    "* $B_i\\cap B_j = \\emptyset, \\forall(i\\neq j)$.\n",
    "\n",
    "$P(A)=\\sum_iP(A\\cap B_i)$ for any partition $\\{B_i\\}$ of $\\Omega$."
   ]
  },
  {
   "cell_type": "markdown",
   "metadata": {},
   "source": [
    "## III. Random Variable"
   ]
  },
  {
   "cell_type": "markdown",
   "metadata": {},
   "source": [
    "** Definition **\n",
    "\n",
    "* Given $(\\Omega,\\mathcal{A},P)$, a random variable is a function $X:\\Omega\\rightarrow\\mathbf{R}$ s.t. $\\{\\omega\\in\\Omega:X(\\omega)\\leq x\\}$ (or $P(X\\leq x)$) $\\in \\mathcal{A}, \\forall x\\in\\mathbf{R} $.\n",
    "* The $CDF$ of a random variable $X$ is the function $F:\\mathbf{R}\\rightarrow [0,1]$, s.t. $F(x)=P(X\\leq x)$.\n",
    "* The *distribution* of $X$ is the probability measure $P^X$ on $\\mathbf{R}$ s.t. $P^X = P(X\\in\\mathcal{A}), \\forall \\mathcal{A}\\in \\mathcal{B}(\\mathbf{R})$."
   ]
  },
  {
   "cell_type": "markdown",
   "metadata": {},
   "source": [
    "** Types **\n",
    "\n",
    "* *Discrete*:\n",
    "    * A r.v. $X$ is discrete if $X(\\Omega)$ is countable.\n",
    "    * The *probability mass function (PMF)* of a discrete r.v. $X$ is the function $\\mathcal{P}:\\mathbf{R}\\rightarrow[0,1]$ s.t. $\\mathcal{P}(x) = P(X=x)$.\n",
    "    * Ex. $X\\sim Bernoulli(\\alpha), \\alpha\\in[0,1], \\mathcal{P}(1) = \\alpha, \\mathcal{P}(0)=1-\\alpha$ (prob. of the outcome of 1 coinflip being $0$ or $1$).\n",
    "    * Ex. $X\\sim Binomial(n,\\alpha), \\alpha\\in[0,1], \\mathcal{P}=\\binom{n}{k}\\alpha^k(1-\\alpha)^{n-k}$ (prob. of $k$ heads/tails out of $n$ coinflips).\n",
    "    * Ex. $X\\sim Geometric(\\alpha), \\alpha\\in[0,1], \\mathcal{P}(k) = (1-\\alpha)^{k-1}\\alpha$ (prob. of $k$ coinflips until getting a head/tail).\n",
    "    * Ex. $X\\sim Poisson(\\lambda), \\lambda \\geq 0, \\mathcal{P}(k) = e^{-\\lambda}\\frac{\\lambda^k}{k!}$, where $k \\in\\{0,1,...,\\}$ (prob. of $k$ customers arriving at a store in 1 hr if the rate of arrival per hr is $\\lambda$, if the times between arrivals are indep.).\n",
    "    \n",
    "* *Continuous*:\n",
    "    * The *probability density function* $f$ if $F(x) = P(X\\leq x) = \\int_{-\\infty}^x f(u)du, \\forall x \\in \\mathbf{R}$ for some integrable $f:\\mathbf{R}\\rightarrow [0,\\infty]$.\n",
    "    * The *indicator function* $I_A(x) = \\begin{cases} 1 \\quad if x\\in A \\\\ 0 \\quad otherwise\\end{cases}$.\n",
    "    * Ex. $X\\sim Uniform(a,b), a<b: f(x)=\\frac{1}{b-a}, x\\in[a,b]$ and $f(x)=0$ otherwise.\n",
    "    * Ex. $X\\sim Exponential(\\lambda), \\lambda>0: f(x) = \\lambda e^{-\\lambda x}, x\\geq 0$, and $0$ otherwise (prob. of the lifetime $x$ of a lightbulb given the average is $\\frac{1}{\\lambda}$).\n",
    "    * Ex. $X\\sim Beta(\\alpha,\\beta), \\alpha, \\beta > 0: f(x) = \\frac{x^{\\alpha-1}(1-x)^{\\beta-1}}{B(\\alpha,\\beta)}, x\\in[0,1]$, and $0$ elsewhere (prob. of a prob. between $0$ and $1$).\n",
    "    * Ex. $X\\sim Normal(\\mu,\\sigma^2), \\mu\\in\\mathbf{R},\\sigma^2>0: f(x) = \\frac{1}{\\sqrt{2\\pi\\sigma^2}}e^{-(x-\\mu)^2/2\\sigma^2}, x\\in\\mathbf{R}$ (prob. of a value $x$ appearing)."
   ]
  },
  {
   "cell_type": "markdown",
   "metadata": {},
   "source": [
    "** Expectation **\n",
    "\n",
    "* Discrete Case:\n",
    "    * The expectation of a discrete r.v. $X$ with $PMF$ $\\mathcal{P}$ is $E(X) = \\sum_xx\\mathcal{P}(x)$ when this sum is well-defined (exp. is not defined otherwise)."
   ]
  },
  {
   "cell_type": "code",
   "execution_count": null,
   "metadata": {
    "collapsed": true
   },
   "outputs": [],
   "source": []
  },
  {
   "cell_type": "code",
   "execution_count": null,
   "metadata": {
    "collapsed": true
   },
   "outputs": [],
   "source": []
  },
  {
   "cell_type": "code",
   "execution_count": null,
   "metadata": {
    "collapsed": true
   },
   "outputs": [],
   "source": []
  }
 ],
 "metadata": {
  "kernelspec": {
   "display_name": "Python 2",
   "language": "python",
   "name": "python2"
  },
  "language_info": {
   "codemirror_mode": {
    "name": "ipython",
    "version": 2
   },
   "file_extension": ".py",
   "mimetype": "text/x-python",
   "name": "python",
   "nbconvert_exporter": "python",
   "pygments_lexer": "ipython2",
   "version": "2.7.11"
  }
 },
 "nbformat": 4,
 "nbformat_minor": 0
}
